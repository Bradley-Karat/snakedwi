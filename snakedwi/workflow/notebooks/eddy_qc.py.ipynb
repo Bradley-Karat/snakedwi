{
 "cells": [
  {
   "cell_type": "code",
   "execution_count": null,
   "metadata": {},
   "outputs": [],
   "source": [
    "eddy_folder = snakemake.input[0]\n",
    "print(eddy_folder)"
   ]
  },
  {
   "cell_type": "code",
   "execution_count": null,
   "metadata": {},
   "outputs": [],
   "source": [
    "os.listdir(eddy_folder)"
   ]
  },
  {
   "cell_type": "code",
   "execution_count": null,
   "metadata": {},
   "outputs": [],
   "source": [
    "import numpy as np\n",
    "import matplotlib.pyplot as plt\n",
    "\n",
    "\n",
    "\n",
    "mvmt = np.loadtxt(os.path.join(eddy_folder,'dwi.eddy_movement_rms'))\n",
    "mvmt.shape\n",
    "plt.plot(mvmt[:,0])\n",
    "plt.plot(mvmt[:,1])"
   ]
  },
  {
   "cell_type": "code",
   "execution_count": null,
   "metadata": {},
   "outputs": [],
   "source": []
  }
 ],
 "metadata": {
  "language_info": {
   "name": "python",
   "pygments_lexer": "ipython3"
  }
 },
 "nbformat": 4,
 "nbformat_minor": 4
}
